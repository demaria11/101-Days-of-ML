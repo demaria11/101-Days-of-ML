{
 "cells": [
  {
   "cell_type": "markdown",
   "metadata": {},
   "source": [
    "# Qiskit\n",
    "> `Qiskit [quiss-kit] is an open source SDK for working with quantum computers at the level of pulses, circuits and application modules`\n",
    "## Open-Source Quantum Development"
   ]
  },
  {
   "cell_type": "code",
   "execution_count": 1,
   "metadata": {},
   "outputs": [],
   "source": [
    "import qiskit.quantum_info as qi\n",
    "from qiskit.circuit.library import FourierChecking\n",
    "from qiskit.visualization import plot_histogram"
   ]
  },
  {
   "cell_type": "code",
   "execution_count": 2,
   "metadata": {},
   "outputs": [],
   "source": [
    "f=[1,-1,-1,-1]\n",
    "g=[1,1,-1,-1]"
   ]
  },
  {
   "cell_type": "code",
   "execution_count": 3,
   "metadata": {},
   "outputs": [
    {
     "data": {
      "text/html": [
       "<pre style=\"word-wrap: normal;white-space: pre;background: #fff0;line-height: 1.1;font-family: &quot;Courier New&quot;,Courier,monospace\">     ┌───┐┌───────────────────────┐┌───┐┌──────────────────────┐┌───┐\n",
       "q_0: ┤ H ├┤0                      ├┤ H ├┤0                     ├┤ H ├\n",
       "     ├───┤│  DIAGONAL(1,-1,-1,-1) │├───┤│  DIAGONAL(1,1,-1,-1) │├───┤\n",
       "q_1: ┤ H ├┤1                      ├┤ H ├┤1                     ├┤ H ├\n",
       "     └───┘└───────────────────────┘└───┘└──────────────────────┘└───┘</pre>"
      ],
      "text/plain": [
       "     ┌───┐┌───────────────────────┐┌───┐┌──────────────────────┐┌───┐\n",
       "q_0: ┤ H ├┤0                      ├┤ H ├┤0                     ├┤ H ├\n",
       "     ├───┤│  DIAGONAL(1,-1,-1,-1) │├───┤│  DIAGONAL(1,1,-1,-1) │├───┤\n",
       "q_1: ┤ H ├┤1                      ├┤ H ├┤1                     ├┤ H ├\n",
       "     └───┘└───────────────────────┘└───┘└──────────────────────┘└───┘"
      ]
     },
     "execution_count": 3,
     "metadata": {},
     "output_type": "execute_result"
    }
   ],
   "source": [
    "circ = FourierChecking(f=f,g=g)\n",
    "circ.draw()"
   ]
  },
  {
   "cell_type": "code",
   "execution_count": 5,
   "metadata": {},
   "outputs": [
    {
     "data": {
      "image/png": "[encoded data removed]",
      "text/plain": [
       "<Figure size 504x360 with 1 Axes>"
      ]
     },
     "execution_count": 5,
     "metadata": {},
     "output_type": "execute_result"
    }
   ],
   "source": [
    "zero = qi.Statevector.from_label('00')\n",
    "sv = zero.evolve(circ)\n",
    "probs = sv.probabilities_dict()\n",
    "plot_histogram(probs)"
   ]
  },
  {
   "cell_type": "code",
   "execution_count": null,
   "metadata": {},
   "outputs": [],
   "source": []
  }
 ],
 "metadata": {
  "kernelspec": {
   "display_name": "Python 3",
   "language": "python",
   "name": "python3"
  },
  "language_info": {
   "codemirror_mode": {
    "name": "ipython",
    "version": 3
   },
   "file_extension": ".py",
   "mimetype": "text/x-python",
   "name": "python",
   "nbconvert_exporter": "python",
   "pygments_lexer": "ipython3",
   "version": "3.8.2"
  }
 },
 "nbformat": 4,
 "nbformat_minor": 4
}
